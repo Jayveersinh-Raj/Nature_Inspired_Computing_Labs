{
  "cells": [
    {
      "cell_type": "markdown",
      "metadata": {
        "id": "view-in-github",
        "colab_type": "text"
      },
      "source": [
        "<a href=\"https://colab.research.google.com/github/Jayveersinh-Raj/Nature_Inspired_Computing_Labs/blob/main/GWO.ipynb\" target=\"_parent\"><img src=\"https://colab.research.google.com/assets/colab-badge.svg\" alt=\"Open In Colab\"/></a>"
      ]
    },
    {
      "cell_type": "markdown",
      "metadata": {
        "collapsed": true,
        "pycharm": {
          "name": "#%% md\n"
        },
        "id": "E764BfnXTcoF"
      },
      "source": [
        "# Grey Wolf Optimizer ([GWO](https://en.wikiversity.org/wiki/Algorithm_models/Grey_Wolf_Optimizer))\n",
        "\n",
        "How it works:\n",
        "\n",
        "![](https://wikimedia.org/api/rest_v1/media/math/render/svg/1993b387ff7f4c78b0c9703de2731116945ff3bf)\n",
        "\n",
        "![](https://wikimedia.org/api/rest_v1/media/math/render/svg/789412197061e1fa84998ddbe9e278b6c123f824)\n",
        "\n",
        "$t$ is the iteration number, $X_p$ is the prey position, and $X$ is the wolf position\n",
        "\n",
        "![](https://wikimedia.org/api/rest_v1/media/math/render/svg/b7fff561c3bb74850698e75933f0aeff5e14d27b)\n",
        "\n",
        "![](https://wikimedia.org/api/rest_v1/media/math/render/svg/ba1edcf46386e0c3236724835ba0774ebd389891)\n",
        "\n",
        "$r_1, r_2$ are random variables, $a$ decreases over time from 2 to 0 (cooling effect)"
      ]
    },
    {
      "cell_type": "code",
      "source": [
        "!pip install mealpy"
      ],
      "metadata": {
        "colab": {
          "base_uri": "https://localhost:8080/"
        },
        "id": "SdRDue_TTikc",
        "outputId": "82a0d8dc-227f-4da1-de27-8450511fa5a3"
      },
      "execution_count": null,
      "outputs": [
        {
          "output_type": "stream",
          "name": "stdout",
          "text": [
            "Looking in indexes: https://pypi.org/simple, https://us-python.pkg.dev/colab-wheels/public/simple/\n",
            "Collecting mealpy\n",
            "  Downloading mealpy-2.5.1-py3-none-any.whl (383 kB)\n",
            "\u001b[K     |████████████████████████████████| 383 kB 7.2 MB/s \n",
            "\u001b[?25hRequirement already satisfied: scipy>=1.7.1 in /usr/local/lib/python3.8/dist-packages (from mealpy) (1.7.3)\n",
            "Requirement already satisfied: numpy>=1.16.5 in /usr/local/lib/python3.8/dist-packages (from mealpy) (1.21.6)\n",
            "Requirement already satisfied: matplotlib>=3.1.3 in /usr/local/lib/python3.8/dist-packages (from mealpy) (3.2.2)\n",
            "Collecting opfunu>=1.0.0\n",
            "  Downloading opfunu-1.0.0-py3-none-any.whl (20.4 MB)\n",
            "\u001b[K     |████████████████████████████████| 20.4 MB 8.1 MB/s \n",
            "\u001b[?25hRequirement already satisfied: pandas>=1.2.0 in /usr/local/lib/python3.8/dist-packages (from mealpy) (1.3.5)\n",
            "Requirement already satisfied: kiwisolver>=1.0.1 in /usr/local/lib/python3.8/dist-packages (from matplotlib>=3.1.3->mealpy) (1.4.4)\n",
            "Requirement already satisfied: pyparsing!=2.0.4,!=2.1.2,!=2.1.6,>=2.0.1 in /usr/local/lib/python3.8/dist-packages (from matplotlib>=3.1.3->mealpy) (3.0.9)\n",
            "Requirement already satisfied: cycler>=0.10 in /usr/local/lib/python3.8/dist-packages (from matplotlib>=3.1.3->mealpy) (0.11.0)\n",
            "Requirement already satisfied: python-dateutil>=2.1 in /usr/local/lib/python3.8/dist-packages (from matplotlib>=3.1.3->mealpy) (2.8.2)\n",
            "Requirement already satisfied: pytz>=2017.3 in /usr/local/lib/python3.8/dist-packages (from pandas>=1.2.0->mealpy) (2022.6)\n",
            "Requirement already satisfied: six>=1.5 in /usr/local/lib/python3.8/dist-packages (from python-dateutil>=2.1->matplotlib>=3.1.3->mealpy) (1.15.0)\n",
            "Installing collected packages: opfunu, mealpy\n",
            "Successfully installed mealpy-2.5.1 opfunu-1.0.0\n"
          ]
        }
      ]
    },
    {
      "cell_type": "code",
      "execution_count": null,
      "outputs": [],
      "source": [
        "import numpy as np\n",
        "from mealpy.swarm_based.GWO import OriginalGWO"
      ],
      "metadata": {
        "pycharm": {
          "name": "#%%\n"
        },
        "id": "eultc47_TcoH"
      }
    },
    {
      "cell_type": "code",
      "execution_count": null,
      "outputs": [
        {
          "output_type": "stream",
          "name": "stdout",
          "text": [
            "Solution: [1.00003927 1.00006688 1.00014709], Fitness: 3.735658597312154e-08\n"
          ]
        }
      ],
      "source": [
        "def rosenbrock_function(position):\n",
        "    value = [\n",
        "        100 * (position[i+1] - position[i]**2)**2 +\n",
        "        (1-position[i])**2\n",
        "        for i in range(len(position)-1)\n",
        "    ]\n",
        "    return sum(value)\n",
        "\n",
        "problem_dict1 = {\n",
        "    \"fit_func\": rosenbrock_function,\n",
        "    \"lb\": [-2, -2, -2],\n",
        "    \"ub\": [2, 2, 2],\n",
        "    \"minmax\": \"min\",\n",
        "    \"log_to\": \"log.txt\",\n",
        "}\n",
        "\n",
        "epoch = 1000\n",
        "pop_size = 100\n",
        "model = OriginalGWO(epoch=epoch, pop_size=pop_size)\n",
        "best_position, best_fitness = model.solve(problem_dict1)\n",
        "print(f\"Solution: {best_position}, Fitness: {best_fitness}\")"
      ],
      "metadata": {
        "pycharm": {
          "name": "#%%\n"
        },
        "colab": {
          "base_uri": "https://localhost:8080/"
        },
        "id": "hV3--AlyTcoI",
        "outputId": "482f6eb3-21c5-49f8-f3f7-81d535042233"
      }
    },
    {
      "cell_type": "markdown",
      "source": [
        "Now try this\n",
        "\n",
        "![](https://upload.wikimedia.org/wikipedia/commons/thumb/3/3e/Beale_contour.svg/300px-Beale_contour.svg.png)\n",
        "\n",
        "Beale function: $$f(x, y) = (1.5-x+xy)^2 + (2.25-x+xy^2)^2 + (2.625-x+xy^3)^2 $$\n",
        "\n",
        "subject to:\n",
        "\n",
        "$$x^2 + y^2 \\leq 9.25$$\n",
        "\n",
        "$$-4.5 \\leq x,y \\leq 4.5$$\n"
      ],
      "metadata": {
        "collapsed": false,
        "pycharm": {
          "name": "#%% md\n"
        },
        "id": "Bv68YWCRTcoJ"
      }
    },
    {
      "cell_type": "code",
      "execution_count": null,
      "outputs": [
        {
          "output_type": "stream",
          "name": "stdout",
          "text": [
            "Solution: [2.99984377 0.49994805], Fitness: 7.927355916586898e-09\n"
          ]
        }
      ],
      "source": [
        "def beale(position):\n",
        "    x, y = position\n",
        "\n",
        "    # constraints\n",
        "    if(x**2 + y**2 > 9.25):\n",
        "      return np.inf\n",
        "\n",
        "    return (1.5 - x + x*y)**2 + (2.25 - x + x*y**2)**2 + (2.625 - x + x*y**3)**2\n",
        "\n",
        "problem_dict2 = {\n",
        "    \"fit_func\": beale,\n",
        "    \"lb\": [-4.5, -4.5], # lower bound for variables given based on dimensionality\n",
        "    \"ub\": [4.5,4.5], # upper bound for variables given based on dimensionality\n",
        "    \"minmax\": \"min\",\n",
        "    \"log_to\": \"log.txt\",\n",
        "}\n",
        "\n",
        "epoch = 1000\n",
        "pop_size = 100\n",
        "model = OriginalGWO(epoch=epoch, pop_size=pop_size)\n",
        "best_position, best_fitness = model.solve(problem_dict2)\n",
        "print(f\"Solution: {best_position}, Fitness: {best_fitness}\")"
      ],
      "metadata": {
        "pycharm": {
          "name": "#%%\n"
        },
        "colab": {
          "base_uri": "https://localhost:8080/"
        },
        "id": "d0uLjcSmTcoJ",
        "outputId": "12723ace-301a-4684-cef3-3068f32e0831"
      }
    },
    {
      "cell_type": "markdown",
      "source": [
        "## Complexity\n",
        "\n",
        "what is the complexity?"
      ],
      "metadata": {
        "collapsed": false,
        "pycharm": {
          "name": "#%% md\n"
        },
        "id": "w1TsU-EQTcoJ"
      }
    },
    {
      "cell_type": "code",
      "execution_count": null,
      "outputs": [
        {
          "output_type": "stream",
          "name": "stdout",
          "text": [
            "4.334389925003052\n",
            "24.13209843635559\n",
            "22.749082565307617\n"
          ]
        }
      ],
      "source": [
        "from time import time\n",
        "\n",
        "problem_dict1 = {\n",
        "    \"fit_func\": rosenbrock_function,\n",
        "    \"lb\": [-10, -15, -5],\n",
        "    \"ub\": [10, 15, 5],\n",
        "    \"minmax\": \"min\",\n",
        "    \"log_to\": \"log.txt\",\n",
        "}\n",
        "\n",
        "st = time()\n",
        "epoch = 200\n",
        "pop_size = 200\n",
        "model = OriginalGWO(epoch=epoch, pop_size=pop_size)\n",
        "best_position, best_fitness = model.solve(problem_dict1)\n",
        "print(time() - st)\n",
        "\n",
        "st = time()\n",
        "epoch = 200\n",
        "pop_size = 1000\n",
        "model = OriginalGWO(epoch=epoch, pop_size=pop_size)\n",
        "best_position, best_fitness = model.solve(problem_dict1)\n",
        "print(time() - st)\n",
        "\n",
        "st = time()\n",
        "epoch = 1000\n",
        "pop_size = 200\n",
        "model = OriginalGWO(epoch=epoch, pop_size=pop_size)\n",
        "best_position, best_fitness = model.solve(problem_dict1)\n",
        "print(time() - st)"
      ],
      "metadata": {
        "pycharm": {
          "name": "#%%\n"
        },
        "colab": {
          "base_uri": "https://localhost:8080/"
        },
        "id": "t2gQGp8pTcoJ",
        "outputId": "b7e0c91d-d5d2-464f-c674-52a1fe8b88f3"
      }
    }
  ],
  "metadata": {
    "kernelspec": {
      "display_name": "Python 3",
      "language": "python",
      "name": "python3"
    },
    "language_info": {
      "codemirror_mode": {
        "name": "ipython",
        "version": 2
      },
      "file_extension": ".py",
      "mimetype": "text/x-python",
      "name": "python",
      "nbconvert_exporter": "python",
      "pygments_lexer": "ipython2",
      "version": "2.7.6"
    },
    "colab": {
      "provenance": [],
      "include_colab_link": true
    }
  },
  "nbformat": 4,
  "nbformat_minor": 0
}